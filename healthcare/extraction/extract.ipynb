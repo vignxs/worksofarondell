{
 "cells": [
  {
   "cell_type": "code",
   "execution_count": 8,
   "id": "ef1143af",
   "metadata": {},
   "outputs": [],
   "source": [
    "from trp import Document\n",
    "import boto3"
   ]
  },
  {
   "cell_type": "code",
   "execution_count": 3,
   "id": "1a793c0b",
   "metadata": {},
   "outputs": [],
   "source": [
    "# Document\n",
    "documentName = \"C:/Users/hrint/Documents/Python2022/healthcare/extraction/Referral_Form_page-0001.jpg\""
   ]
  },
  {
   "cell_type": "code",
   "execution_count": 4,
   "id": "2fe88121",
   "metadata": {},
   "outputs": [
    {
     "name": "stderr",
     "output_type": "stream",
     "text": [
      "c:\\users\\hrint\\appdata\\local\\programs\\python\\python36\\lib\\site-packages\\boto3\\compat.py:88: PythonDeprecationWarning: Boto3 will no longer support Python 3.6 starting May 30, 2022. To continue receiving service updates, bug fixes, and security updates please upgrade to Python 3.7 or later. More information can be found here: https://aws.amazon.com/blogs/developer/python-support-policy-updates-for-aws-sdks-and-tools/\n",
      "  warnings.warn(warning, PythonDeprecationWarning)\n"
     ]
    }
   ],
   "source": [
    "# Amazon Textract client\n",
    "textract = boto3.client('textract')"
   ]
  },
  {
   "cell_type": "code",
   "execution_count": 58,
   "id": "f7f17523",
   "metadata": {},
   "outputs": [],
   "source": [
    "# Call Amazon Textract\n",
    "with open(documentName, \"rb\") as document:\n",
    "    response = textract.analyze_document(\n",
    "        Document={\n",
    "            'Bytes': document.read(),\n",
    "        },\n",
    "        FeatureTypes=[\"FORMS\", ])"
   ]
  },
  {
   "cell_type": "code",
   "execution_count": null,
   "id": "2e4889e2",
   "metadata": {},
   "outputs": [],
   "source": []
  },
  {
   "cell_type": "code",
   "execution_count": 74,
   "id": "7894e2b9",
   "metadata": {},
   "outputs": [],
   "source": [
    "block = response[\"Blocks\"]\n",
    "if item[\"BlockType\"] == \"LINE\":\n",
    "        print ('\\033[94m' +  item[\"Text\"] + '\\033[0m')"
   ]
  },
  {
   "cell_type": "code",
   "execution_count": null,
   "id": "5aea0c83",
   "metadata": {},
   "outputs": [],
   "source": []
  },
  {
   "cell_type": "code",
   "execution_count": 23,
   "id": "de77a694",
   "metadata": {},
   "outputs": [],
   "source": [
    "doc = Document(response)"
   ]
  },
  {
   "cell_type": "code",
   "execution_count": 49,
   "id": "913ed407",
   "metadata": {
    "scrolled": true
   },
   "outputs": [
    {
     "name": "stdout",
     "output_type": "stream",
     "text": [
      "Phone:\n",
      "Referred\n",
      "On:\n",
      "Phone:\n",
      "City,\n",
      "St\n",
      "Zip:\n",
      "City,\n",
      "St\n",
      "Zip:\n",
      "Referred\n",
      "To:\n",
      "Fax:\n",
      "Policy#:\n",
      "Address:\n",
      "DOB:\n",
      "City,\n",
      "St\n",
      "Zip:\n",
      "Address:\n",
      "Referred\n",
      "By:\n",
      "Patient\n",
      "Name:\n",
      "Phone:\n",
      "Fax:\n",
      "Primary/Billing\n",
      "Diagnosis:\n",
      "Address:\n",
      "Insurance:\n",
      "Referral\n",
      "Reason:\n",
      "Attachments:\n"
     ]
    }
   ],
   "source": [
    "for x in doc.pages[0].form.fields:\n",
    "#     print( (x.key.content,x.value.content), end = \"\")\n",
    "    for y in  x.key.content:\n",
    "        print(y)"
   ]
  },
  {
   "cell_type": "code",
   "execution_count": 27,
   "id": "26c58da9",
   "metadata": {},
   "outputs": [],
   "source": [
    "from tabulate import tabulate"
   ]
  },
  {
   "cell_type": "code",
   "execution_count": 32,
   "id": "85e3cc36",
   "metadata": {},
   "outputs": [
    {
     "data": {
      "text/plain": [
       "['__class__',\n",
       " '__delattr__',\n",
       " '__dict__',\n",
       " '__dir__',\n",
       " '__doc__',\n",
       " '__eq__',\n",
       " '__format__',\n",
       " '__ge__',\n",
       " '__getattribute__',\n",
       " '__gt__',\n",
       " '__hash__',\n",
       " '__init__',\n",
       " '__init_subclass__',\n",
       " '__le__',\n",
       " '__lt__',\n",
       " '__module__',\n",
       " '__ne__',\n",
       " '__new__',\n",
       " '__reduce__',\n",
       " '__reduce_ex__',\n",
       " '__repr__',\n",
       " '__setattr__',\n",
       " '__sizeof__',\n",
       " '__str__',\n",
       " '__subclasshook__',\n",
       " '__weakref__',\n",
       " '_block',\n",
       " '_confidence',\n",
       " '_content',\n",
       " '_geometry',\n",
       " '_id',\n",
       " '_text',\n",
       " 'block',\n",
       " 'confidence',\n",
       " 'content',\n",
       " 'geometry',\n",
       " 'id',\n",
       " 'text']"
      ]
     },
     "execution_count": 32,
     "metadata": {},
     "output_type": "execute_result"
    }
   ],
   "source": [
    "dir(doc.pages[0].form.fields[0].key)"
   ]
  },
  {
   "cell_type": "code",
   "execution_count": 57,
   "id": "96dd93d6",
   "metadata": {},
   "outputs": [
    {
     "data": {
      "text/plain": [
       "[<trp.Field at 0x220424c7358>,\n",
       " <trp.Field at 0x220424c7470>,\n",
       " <trp.Field at 0x220424ca0f0>,\n",
       " <trp.Field at 0x220424ca748>,\n",
       " <trp.Field at 0x220424caf28>,\n",
       " <trp.Field at 0x220424cd8d0>,\n",
       " <trp.Field at 0x220424d0588>,\n",
       " <trp.Field at 0x220424d50b8>,\n",
       " <trp.Field at 0x220424d5a20>,\n",
       " <trp.Field at 0x220424d90b8>,\n",
       " <trp.Field at 0x220424d9ba8>,\n",
       " <trp.Field at 0x220424dd240>,\n",
       " <trp.Field at 0x220424ddd30>,\n",
       " <trp.Field at 0x220424dfe80>,\n",
       " <trp.Field at 0x220424e26a0>,\n",
       " <trp.Field at 0x220424e6048>,\n",
       " <trp.Field at 0x220424e69b0>,\n",
       " <trp.Field at 0x220424e91d0>,\n",
       " <trp.Field at 0x220424e9e48>,\n",
       " <trp.Field at 0x220424ec978>,\n",
       " <trp.Field at 0x220424ef4a8>]"
      ]
     },
     "execution_count": 57,
     "metadata": {},
     "output_type": "execute_result"
    }
   ],
   "source": [
    " (doc.pages[0].form.fields)\n"
   ]
  },
  {
   "cell_type": "code",
   "execution_count": 82,
   "id": "693e944c",
   "metadata": {},
   "outputs": [
    {
     "name": "stdout",
     "output_type": "stream",
     "text": [
      "Detected Document Text\n",
      "Id: 32bf10cc-cdd1-4377-8f98-0b13da04a4fd\n",
      "    Type: PAGE\n",
      "    Relationships: [{'Type': 'CHILD', 'Ids': ['7597ffee-c96b-47cc-a194-65f5137032be', 'dd320cde-5070-4725-b1e8-9dc73ab1d13f', '1e545911-eb01-463d-be37-e9ac452e346a', 'f456c4e1-0634-4948-9b0a-1dda484450d3', '6a837514-39bf-4e60-8d9b-ac6362561307', '51a98ea0-2880-4175-847c-8b3eac02c3ad', 'd2a62b31-2234-4b39-8972-3068f2851548', '3edf7207-9a0e-4a0a-98ca-a741995d8875', '813dee46-d41d-4132-b034-e7a6b6ac5e00', '604d9298-b29f-4e5b-9bf2-20c51db2968b', 'c9a519ea-1189-4624-bddb-01d37e23be26', 'cbef816c-0a44-4e1d-85d7-fdacf027cd97', '6a6f75d7-099f-48a6-b5a5-2837ae69d15c', '368300f4-fb3c-4af0-8361-626ba57d2d38', '4ee4334d-737a-472f-909c-233decf26b8c', '475c9d5c-d861-41c0-93fd-2210a18867c4', 'a270722f-81cf-4085-8ec6-4272b6e8c882', 'c185d32e-c736-42f8-9b93-8ffa28940968', 'c6519b5a-bd86-4430-834d-e94652a16200', 'f2ab630c-57d3-4695-a4d4-c6c4e3e71b15', '8ca3a3c5-ef18-4f07-8a30-ba49622d64ca', 'a51891b9-3e12-4713-9165-de89f9b3f70a', '2482e77b-2413-4398-b470-318fa5b6da54', 'acc072af-d7eb-4f2c-91b5-c942628a455c', '120d8e59-2377-45e9-9423-15aacda36da4', '071aae1b-95b4-450e-b157-a8ed881de776', '186f6597-6c65-4b0d-8bb3-85d56f9fdead', 'dcd19e31-a4c7-499b-8b1b-a9d6d1cb23ed', 'fc3cb128-5855-4ab2-a115-79a3269c075a', '804ed71c-48ba-4f6f-80a0-19ee0edd236d', '0e28cc41-8ad6-47ab-920f-6b98e826921b', '9ec5a273-8f63-4197-90ba-3d286a50861d', '7822e576-fd75-4e3c-a09b-5414866bfffb', '2be05301-125f-48ce-acde-e090bdc87843', 'b7134eb4-e701-4638-b834-4e96ae47ad0a', 'bccffe89-3894-4e61-8645-3cf7cdce2873', 'c6051797-051a-4eb2-8860-a750da72767f', 'd0323698-e1f3-4644-b269-3ed2a7d5c4c2', '59c8e743-81ac-4cf7-90d7-0fe273bb90b7', '637e5a57-d889-4096-a790-1607521f3ae7', '511e27e7-0946-4568-a4c4-c875fc9cf096', 'ea3f9cb0-86f7-4d00-ad3e-45a97581fb43', 'e533fc04-e8a1-43c4-84be-148f8a7e53da', 'ebc0aa2c-06a3-4ccd-9ca5-111982bbb17d', 'd662fc76-7c56-4acf-a223-deb1e7d54569', 'b2f5b447-c186-4d46-b113-fa667eee2445', 'dc7b486d-7491-44c4-9d7d-da9f1bf0dbc1', 'd45e00f5-fb61-4699-a275-868637c5d164', '4ce3d329-966c-4c1b-92a4-ac62cabe9e7c', '73ba1536-ed03-43e2-b665-2730f1eccea4', '34d862ae-7cbc-4a29-9fda-9c6864e00763', 'fcd39161-7fbe-4f5f-b562-0e59e622f2ce', 'b38dcc7c-f41e-462a-8929-024038b67382', 'cd7bd6a6-7d9e-4031-b647-6f04b7421475', '630e2ae6-bf43-44d1-97d5-cfce084e78c5', '6c54355b-0c1c-4bbe-bbb1-9dd5a322e977', '819e9fc6-3c86-4966-81a3-8432ed8221c6', '923828a1-53c9-43f8-85ae-cec2d534bc62', '37304450-2f49-4b7e-857c-3db971703a62', '371d63f9-2159-4e89-a854-a10554536b22', 'ea384c2b-87ea-4205-b350-b78d4f1ff4df', '198863c0-0bb0-4b14-ad7b-32fef06fc507', '120aa499-f662-4c26-bcfd-c90869472a14', '2219e086-16c4-4ca1-b36a-c8984f75e861', '515910c9-f5d5-4353-afe5-99f85b1438a2', '88732996-e497-4fbb-bc5d-3fece64679ec', 'd314117f-5155-4bc1-af6b-0feecc1bceff', 'c3c71320-7008-4692-8b8a-fdd74b78e8da', '91681831-9e43-43ab-9e0a-dfc2c2861e4f', '1c092e34-6249-4875-b8e7-51405ea29099', 'd1470876-af9b-4830-8fc6-5f8f29dff008', '2a0c0ac9-cb2a-48b6-8a37-30a38572289d', 'd18917a0-0077-40dd-80b7-82216494fc6a', '67361c9b-9560-4689-be0f-2d8c008d9b05', '25d390ba-b7d0-4084-8928-afd83537dbd2', 'bd42ffdb-30cd-4003-85ba-3281773121a9', '651f52a2-e552-4cc7-bc16-2f006e47d73b', 'c671a05d-455b-4939-a75b-3d958c334d57', '3c6f89ba-d017-4e73-ad34-154bbf4de8a5', '08a5243d-4787-4a71-93e0-73e86d7a20f2', '29eb78b9-ee2d-4d2a-8f36-5e70f18a2d44', 'd1f8797d-a9b7-4bc3-94b3-9b941ecf2df7', '443ecd1f-360b-42ac-b93b-abdd7f69e34d', 'c161060a-fc46-43c1-94c2-e916775ded95', 'a0575421-ece2-4dd4-98ee-aebb4ea6a82a', '6e28930b-a0ae-45b7-857f-6cc78c9d0bcd', '1dd7beb9-228f-4ffe-8d3c-5b8c36bf0e56', '4ddbeaa0-b4ff-49b8-a650-f1271a210b57', 'ad72ff1b-b57c-4b6e-a0d6-eb457ae39ec3', 'ced9fd32-1911-4fb3-9225-d0c21dd1fcee', 'd30fb3f2-f576-48fa-8fbb-2112cc513e71', '4bd0f7b4-a609-42d5-8de2-8f6dfdaa47c9', 'dadc4bfc-a0dd-47b4-8337-526fcfd745fc', 'c474f5e1-9bf7-4cb5-ade4-ec0feb515392', 'd74f84d5-2623-4917-a1b9-38ac1cb20592']}]\n",
      "    Geometry: \n",
      "        Bounding Box: {'Width': 1.0, 'Height': 0.9997150897979736, 'Left': 0.0, 'Top': 0.0}\n",
      "        Polygon: [{'X': 1.733270285076674e-16, 'Y': 0.0}, {'X': 1.0, 'Y': 0.0}, {'X': 1.0, 'Y': 0.9997150897979736}, {'X': 0.0, 'Y': 0.9997150897979736}]\n",
      "\n"
     ]
    },
    {
     "ename": "NameError",
     "evalue": "name 'image' is not defined",
     "output_type": "error",
     "traceback": [
      "\u001b[1;31m---------------------------------------------------------------------------\u001b[0m",
      "\u001b[1;31mNameError\u001b[0m                                 Traceback (most recent call last)",
      "\u001b[1;32m<ipython-input-82-39c3055474e4>\u001b[0m in \u001b[0;36m<module>\u001b[1;34m\u001b[0m\n\u001b[0;32m     96\u001b[0m \u001b[1;33m\u001b[0m\u001b[0m\n\u001b[0;32m     97\u001b[0m \u001b[1;33m\u001b[0m\u001b[0m\n\u001b[1;32m---> 98\u001b[1;33m \u001b[0mprocess_text_analysis\u001b[0m\u001b[1;33m(\u001b[0m\u001b[1;33m)\u001b[0m\u001b[1;33m\u001b[0m\u001b[0m\n\u001b[0m",
      "\u001b[1;32m<ipython-input-82-39c3055474e4>\u001b[0m in \u001b[0;36mprocess_text_analysis\u001b[1;34m()\u001b[0m\n\u001b[0;32m     75\u001b[0m     \u001b[1;32mfor\u001b[0m \u001b[0mblock\u001b[0m \u001b[1;32min\u001b[0m \u001b[0mblocks\u001b[0m\u001b[1;33m:\u001b[0m\u001b[1;33m\u001b[0m\u001b[0m\n\u001b[0;32m     76\u001b[0m         \u001b[0mDisplayBlockInformation\u001b[0m\u001b[1;33m(\u001b[0m\u001b[0mblock\u001b[0m\u001b[1;33m)\u001b[0m\u001b[1;33m\u001b[0m\u001b[0m\n\u001b[1;32m---> 77\u001b[1;33m         \u001b[0mdraw\u001b[0m\u001b[1;33m=\u001b[0m\u001b[0mImageDraw\u001b[0m\u001b[1;33m.\u001b[0m\u001b[0mDraw\u001b[0m\u001b[1;33m(\u001b[0m\u001b[0mimage\u001b[0m\u001b[1;33m)\u001b[0m\u001b[1;33m\u001b[0m\u001b[0m\n\u001b[0m\u001b[0;32m     78\u001b[0m \u001b[1;33m\u001b[0m\u001b[0m\n\u001b[0;32m     79\u001b[0m         \u001b[1;31m# Draw bounding boxes for different detected response objects\u001b[0m\u001b[1;33m\u001b[0m\u001b[1;33m\u001b[0m\u001b[0m\n",
      "\u001b[1;31mNameError\u001b[0m: name 'image' is not defined"
     ]
    }
   ],
   "source": [
    "import json\n",
    "\n",
    "import boto3\n",
    "import io\n",
    "from PIL import Image, ImageDraw\n",
    "import json\n",
    "\n",
    "def ShowBoundingBox(draw,box,width,height,boxColor):      \n",
    "    left = width * box['Left']\n",
    "    top = height * box['Top'] \n",
    "    draw.rectangle([left,top, left + (width * box['Width']), top +(height * box['Height'])],outline=boxColor)   \n",
    "\n",
    "def ShowSelectedElement(draw,box,width,height,boxColor):\n",
    "             \n",
    "    left = width * box['Left']\n",
    "    top = height * box['Top'] \n",
    "    draw.rectangle([left,top, left + (width * box['Width']), top +(height * box['Height'])],fill=boxColor)  \n",
    "\n",
    "# Displays information about a block returned by text detection and text analysis\n",
    "def DisplayBlockInformation(block):\n",
    "    print('Id: {}'.format(block['Id']))\n",
    "    if 'Text' in block:\n",
    "        print('    Detected: ' + block['Text'])\n",
    "    print('    Type: ' + block['BlockType'])\n",
    "   \n",
    "    if 'Confidence' in block:\n",
    "        print('    Confidence: ' + \"{:.2f}\".format(block['Confidence']) + \"%\")\n",
    "\n",
    "    if block['BlockType'] == 'CELL':\n",
    "        print(\"    Cell information\")\n",
    "        print(\"        Column:\" + str(block['ColumnIndex']))\n",
    "        print(\"        Row:\" + str(block['RowIndex']))\n",
    "        print(\"        Column Span:\" + str(block['ColumnSpan']))\n",
    "        print(\"        RowSpan:\" + str(block['ColumnSpan']))    \n",
    "    \n",
    "    if 'Relationships' in block:\n",
    "        print('    Relationships: {}'.format(block['Relationships']))\n",
    "    print('    Geometry: ')\n",
    "    print('        Bounding Box: {}'.format(block['Geometry']['BoundingBox']))\n",
    "    print('        Polygon: {}'.format(block['Geometry']['Polygon']))\n",
    "    \n",
    "    if block['BlockType'] == \"KEY_VALUE_SET\":\n",
    "        print ('    Entity Type: ' + block['EntityTypes'][0])\n",
    "    \n",
    "    if block['BlockType'] == 'SELECTION_ELEMENT':\n",
    "        print('    Selection element detected: ', end='')\n",
    "\n",
    "        if block['SelectionStatus'] =='SELECTED':\n",
    "            print('Selected')\n",
    "        else:\n",
    "            print('Not selected')    \n",
    "    \n",
    "    if 'Page' in block:\n",
    "        print('Page: ' + block['Page'])\n",
    "    print()\n",
    "\n",
    "def process_text_analysis():\n",
    "\n",
    "    \n",
    "    \n",
    "    with open(documentName, \"rb\") as document:\n",
    "        response = textract.analyze_document(\n",
    "            Document={\n",
    "                'Bytes': document.read(),\n",
    "            },\n",
    "            FeatureTypes=[\"FORMS\", ])\n",
    "    \n",
    "    with open(\"response_sample2.json\", \"w\") as fwriter:\n",
    "        json.dump(response, fwriter)\n",
    "    blocks=response['Blocks']\n",
    "#     width, height =image.size    \n",
    "    print ('Detected Document Text')\n",
    "   \n",
    "    # Create image showing bounding box/polygon the detected lines/text\n",
    "    for block in blocks:\n",
    "        DisplayBlockInformation(block)    \n",
    "        draw=ImageDraw.Draw(image)\n",
    "\n",
    "        # Draw bounding boxes for different detected response objects\n",
    "        if block['BlockType'] == \"KEY_VALUE_SET\":\n",
    "            if block['EntityTypes'][0] == \"KEY\":\n",
    "                ShowBoundingBox(draw, block['Geometry']['BoundingBox'],width,height,'red')\n",
    "            else:\n",
    "                ShowBoundingBox(draw, block['Geometry']['BoundingBox'],width,height,'green')             \n",
    "        if block['BlockType'] == 'TABLE':\n",
    "            ShowBoundingBox(draw, block['Geometry']['BoundingBox'],width,height, 'blue')\n",
    "        if block['BlockType'] == 'CELL':\n",
    "            ShowBoundingBox(draw, block['Geometry']['BoundingBox'],width,height, 'yellow')\n",
    "        if block['BlockType'] == 'SELECTION_ELEMENT':\n",
    "            if block['SelectionStatus'] =='SELECTED':\n",
    "                ShowSelectedElement(draw, block['Geometry']['BoundingBox'],width,height, 'blue')    \n",
    "            \n",
    "    # Display the image\n",
    "    image.show()\n",
    "    return len(blocks)\n",
    "\n",
    "\n",
    "process_text_analysis()"
   ]
  },
  {
   "cell_type": "code",
   "execution_count": 81,
   "id": "f7dccb6a",
   "metadata": {},
   "outputs": [
    {
     "name": "stdout",
     "output_type": "stream",
     "text": [
      "Collecting pillow\n",
      "  Downloading Pillow-8.4.0-cp36-cp36m-win_amd64.whl (3.2 MB)\n",
      "Installing collected packages: pillow\n",
      "Successfully installed pillow-8.4.0\n"
     ]
    }
   ],
   "source": [
    "!pip install pillow\n"
   ]
  }
 ],
 "metadata": {
  "kernelspec": {
   "display_name": "Python 3",
   "language": "python",
   "name": "python3"
  },
  "language_info": {
   "codemirror_mode": {
    "name": "ipython",
    "version": 3
   },
   "file_extension": ".py",
   "mimetype": "text/x-python",
   "name": "python",
   "nbconvert_exporter": "python",
   "pygments_lexer": "ipython3",
   "version": "3.6.5"
  }
 },
 "nbformat": 4,
 "nbformat_minor": 5
}
